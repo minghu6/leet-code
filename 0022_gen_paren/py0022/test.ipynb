{
 "cells": [
  {
   "cell_type": "code",
   "execution_count": 2,
   "metadata": {},
   "outputs": [],
   "source": [
    "class A:\n",
    "    def __hash__(self) -> int:\n",
    "        return 0"
   ]
  },
  {
   "cell_type": "code",
   "execution_count": 5,
   "metadata": {},
   "outputs": [
    {
     "data": {
      "text/plain": [
       "True"
      ]
     },
     "execution_count": 5,
     "metadata": {},
     "output_type": "execute_result"
    }
   ],
   "source": [
    "hash((A(), 2)) == hash((A(), 2))"
   ]
  },
  {
   "cell_type": "code",
   "execution_count": 39,
   "metadata": {},
   "outputs": [],
   "source": [
    "from typing import List\n",
    "\n",
    "\n",
    "class Leaf:\n",
    "    def __len__(self):\n",
    "        return 2\n",
    "\n",
    "    def __repr__(self) -> str:\n",
    "        return '()'\n",
    "\n",
    "\n",
    "class Branch:\n",
    "    pass\n",
    "\n",
    "class Branch:\n",
    "    def __init__(self, children: List[Leaf | Branch]) -> None:\n",
    "        self.children = children\n",
    "        self.repr = '({})'.format(\n",
    "            ''.join([repr(child) for child in self.children])\n",
    "        )\n",
    "        self.hash = hash(self.repr)\n",
    "\n",
    "    def __repr__(self) -> str:\n",
    "        return self.repr\n",
    "\n",
    "    def __hash__(self):\n",
    "        return self.hash\n",
    "\n",
    "    def __eq__(self, other: object) -> bool:\n",
    "        return repr(self) == repr(other)\n",
    "\n",
    "\n",
    "leaf = Leaf()\n",
    "\n",
    "parens = [\n",
    "    {(leaf,)},\n",
    "    {(Branch([leaf]),), (leaf, leaf)}\n",
    "]\n",
    "\n",
    "def gen_paren_comb(prev_i: int):\n",
    "    for parts in parens[prev_i]:\n",
    "        # nested on each parens units: 1~n\n",
    "        for k in range(len(parts), 0, -1):\n",
    "            for j in range(0, len(parts)-k+1):\n",
    "                yield parts[:j] + (Branch(parts[j:j+k]),) + parts[j+k:]\n",
    "\n",
    "    yield (leaf,) * (prev_i+2)"
   ]
  },
  {
   "cell_type": "code",
   "execution_count": 40,
   "metadata": {},
   "outputs": [],
   "source": [
    "parens.append(set(gen_paren_comb(1)))\n",
    "parens.append(set(gen_paren_comb(2)))"
   ]
  },
  {
   "cell_type": "code",
   "execution_count": 41,
   "metadata": {},
   "outputs": [
    {
     "data": {
      "text/plain": [
       "[{((),)},\n",
       " {((()),), ((), ())},\n",
       " {(((())),), ((()()),), ((()), ()), ((), (())), ((), (), ())},\n",
       " {((((()))),),\n",
       "  (((()())),),\n",
       "  (((())()),),\n",
       "  (((())), ()),\n",
       "  ((()(())),),\n",
       "  ((()()()),),\n",
       "  ((()()), ()),\n",
       "  ((()), (())),\n",
       "  ((()), (), ()),\n",
       "  ((), ((()))),\n",
       "  ((), (()())),\n",
       "  ((), (()), ()),\n",
       "  ((), (), (())),\n",
       "  ((), (), (), ())}]"
      ]
     },
     "execution_count": 41,
     "metadata": {},
     "output_type": "execute_result"
    }
   ],
   "source": [
    "parens"
   ]
  },
  {
   "cell_type": "code",
   "execution_count": 35,
   "metadata": {},
   "outputs": [
    {
     "data": {
      "text/plain": [
       "{(())}"
      ]
     },
     "execution_count": 35,
     "metadata": {},
     "output_type": "execute_result"
    }
   ],
   "source": [
    "{Branch([leaf]), Branch([leaf])}"
   ]
  },
  {
   "cell_type": "code",
   "execution_count": 30,
   "metadata": {},
   "outputs": [
    {
     "data": {
      "text/plain": [
       "{()}"
      ]
     },
     "execution_count": 30,
     "metadata": {},
     "output_type": "execute_result"
    }
   ],
   "source": [
    "{leaf, leaf}"
   ]
  },
  {
   "cell_type": "code",
   "execution_count": 33,
   "metadata": {},
   "outputs": [],
   "source": [
    "Branch([leaf]) == Branch([leaf])"
   ]
  }
 ],
 "metadata": {
  "kernelspec": {
   "display_name": "Python 3",
   "language": "python",
   "name": "python3"
  },
  "language_info": {
   "codemirror_mode": {
    "name": "ipython",
    "version": 3
   },
   "file_extension": ".py",
   "mimetype": "text/x-python",
   "name": "python",
   "nbconvert_exporter": "python",
   "pygments_lexer": "ipython3",
   "version": "3.10.6"
  },
  "orig_nbformat": 4
 },
 "nbformat": 4,
 "nbformat_minor": 2
}
